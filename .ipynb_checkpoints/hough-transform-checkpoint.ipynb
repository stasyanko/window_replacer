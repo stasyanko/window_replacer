{
 "cells": [
  {
   "cell_type": "code",
   "execution_count": 33,
   "metadata": {},
   "outputs": [
    {
     "name": "stdout",
     "output_type": "stream",
     "text": [
      "Angle is 0.0\n"
     ]
    },
    {
     "data": {
      "image/png": "[encoded data removed]",
      "text/plain": [
       "<Figure size 432x288 with 1 Axes>"
      ]
     },
     "metadata": {
      "needs_background": "light"
     },
     "output_type": "display_data"
    }
   ],
   "source": [
    "import numpy as np\n",
    "import cv2\n",
    "import math\n",
    "from scipy import ndimage\n",
    "from skimage import io\n",
    "\n",
    "img_before = cv2.imread('./data/images/test1/9.jpg')\n",
    "# img_before = img_before[66:213, 194:360]\n",
    "\n",
    "img_before = img_before[45:280, 150:450]\n",
    "\n",
    "io.imshow(img_before)\n",
    "\n",
    "img_gray = cv2.cvtColor(img_before, cv2.COLOR_BGR2GRAY)\n",
    "img_edges = cv2.Canny(img_gray, 100, 100, apertureSize=3)\n",
    "lines = cv2.HoughLinesP(img_edges, 1, math.pi / 180.0, 100, minLineLength=100, maxLineGap=5)\n",
    "\n",
    "io.imshow(img_edges)\n",
    "    \n",
    "angles = []\n",
    "\n",
    "for x1, y1, x2, y2 in lines[0]:\n",
    "    cv2.line(img_before, (x1, y1), (x2, y2), (255, 0, 0), 3)\n",
    "    angle = math.degrees(math.atan2(y2 - y1, x2 - x1))\n",
    "    angles.append(angle)\n",
    "\n",
    "median_angle = np.median(angles)\n",
    "img_rotated = ndimage.rotate(img_before, median_angle)\n",
    "\n",
    "print(\"Angle is {}\".format(median_angle))\n",
    "# io.imshow('rotated.jpg', img_rotated) "
   ]
  },
  {
   "cell_type": "code",
   "execution_count": 44,
   "metadata": {},
   "outputs": [
    {
     "name": "stdout",
     "output_type": "stream",
     "text": [
      "(544.1929, 376.09677) (438.81238, 413.44586) (444.94885, 363.82385) (690, 920, 3)\n"
     ]
    },
    {
     "data": {
      "text/plain": [
       "True"
      ]
     },
     "execution_count": 44,
     "metadata": {},
     "output_type": "execute_result"
    }
   ],
   "source": [
    "from math import atan2\n",
    "import numpy as np\n",
    "\n",
    "def get_angle(p0, p1=np.array([0,0]), p2=None):\n",
    "    ''' compute angle (in degrees) for p0p1p2 corner\n",
    "    Inputs:\n",
    "        p0,p1,p2 - points in the form of [x,y]\n",
    "    '''\n",
    "    if p2 is None:\n",
    "        p2 = p1 + np.array([1, 0])\n",
    "    v0 = np.array(p0) - np.array(p1)\n",
    "    v1 = np.array(p2) - np.array(p1)\n",
    "\n",
    "    angle = np.math.atan2(np.linalg.det([v0,v1]),np.dot(v0,v1))\n",
    "    return np.degrees(angle)\n",
    "\n",
    "\n",
    "img = cv2.imread(\"./data/images/test1/5.jpg\")  #load an image of a single battery\n",
    "img_gs = cv2.cvtColor(img, cv2.COLOR_BGR2GRAY)  #convert to grayscale\n",
    "\n",
    "#inverted binary threshold: 1 for the battery, 0 for the background\n",
    "_, thresh = cv2.threshold(img_gs, 250, 1, cv2.THRESH_BINARY_INV)\n",
    "\n",
    "#From a matrix of pixels to a matrix of coordinates of non-black points.\n",
    "#(note: mind the col/row order, pixels are accessed as [row, col]\n",
    "#but when we draw, it's (x, y), so have to swap here or there)\n",
    "mat = np.argwhere(thresh != 0)\n",
    "\n",
    "#let's swap here... (e. g. [[row, col], ...] to [[col, row], ...])\n",
    "mat[:, [0, 1]] = mat[:, [1, 0]]\n",
    "#or we could've swapped at the end, when drawing\n",
    "#(e. g. center[0], center[1] = center[1], center[0], same for endpoint1 and endpoint2),\n",
    "#probably better performance-wise\n",
    "\n",
    "\n",
    "mat = np.array(mat).astype(np.float32) #have to convert type for PCA\n",
    "\n",
    "#mean (e. g. the geometrical center) \n",
    "#and eigenvectors (e. g. directions of principal components)\n",
    "m, e = cv2.PCACompute(mat, mean = np.array([]))\n",
    "\n",
    "#now to draw: let's scale our primary axis by 100, \n",
    "#and the secondary by 50\n",
    "\n",
    "center = tuple(m[0])\n",
    "endpoint1 = tuple(m[0] + e[0]*100)\n",
    "endpoint2 = tuple(m[0] + e[1]*50)\n",
    "\n",
    "red_color = (0, 0, 255)\n",
    "cv2.circle(img, center, 5, red_color)\n",
    "cv2.line(img, center, endpoint1, red_color)\n",
    "cv2.line(img, center, endpoint2, red_color)\n",
    "\n",
    "# angle = get_angle(endpoint1 - center, endpoint2 - center)\n",
    "print(endpoint1, endpoint2, center, img.shape)\n",
    "\n",
    "cv2.imwrite(\"out.png\", img)"
   ]
  },
  {
   "cell_type": "code",
   "execution_count": null,
   "metadata": {},
   "outputs": [],
   "source": []
  }
 ],
 "metadata": {
  "kernelspec": {
   "display_name": "Python 3",
   "language": "python",
   "name": "python3"
  },
  "language_info": {
   "codemirror_mode": {
    "name": "ipython",
    "version": 3
   },
   "file_extension": ".py",
   "mimetype": "text/x-python",
   "name": "python",
   "nbconvert_exporter": "python",
   "pygments_lexer": "ipython3",
   "version": "3.6.8"
  }
 },
 "nbformat": 4,
 "nbformat_minor": 2
}
